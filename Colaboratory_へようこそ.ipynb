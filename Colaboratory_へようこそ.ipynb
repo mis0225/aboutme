{
  "nbformat": 4,
  "nbformat_minor": 0,
  "metadata": {
    "colab": {
      "name": "Colaboratory へようこそ",
      "provenance": [],
      "collapsed_sections": [],
      "toc_visible": true,
      "include_colab_link": true
    },
    "kernelspec": {
      "display_name": "Python 3",
      "name": "python3"
    }
  },
  "cells": [
    {
      "cell_type": "markdown",
      "metadata": {
        "id": "view-in-github",
        "colab_type": "text"
      },
      "source": [
        "<a href=\"https://colab.research.google.com/github/mis0225/aboutme/blob/master/Colaboratory_%E3%81%B8%E3%82%88%E3%81%86%E3%81%93%E3%81%9D.ipynb\" target=\"_parent\"><img src=\"https://colab.research.google.com/assets/colab-badge.svg\" alt=\"Open In Colab\"/></a>"
      ]
    },
    {
      "cell_type": "markdown",
      "metadata": {
        "id": "yAP0vBB8MhlY"
      },
      "source": [
        "# 新しいセクション"
      ]
    },
    {
      "cell_type": "code",
      "metadata": {
        "id": "tzhqlMuyyFNK",
        "outputId": "301310fc-f6b3-45db-dcf8-345c2fb37a64",
        "colab": {
          "base_uri": "https://localhost:8080/",
          "height": 324
        }
      },
      "source": [
        "import numpy as np\n",
        "import matplotlib.pyplot as plt\n",
        "%matplotlib inline\n",
        "\n",
        "#初期値での迷路の様子\n",
        "#図の大きさ\n",
        "fig = plt.figure(figsize=(5,5))\n",
        "ax = plt.gca()\n",
        "\n",
        "#赤の壁を書く\n",
        "plt.plot([1,1], [0,1], color='red', linewidth=2)\n",
        "plt.plot([1,2],[2,2], color='red', linewidth=2)\n",
        "plt.plot([2,2],[2,1], color='red', linewidth=2)\n",
        "plt.plot([2,3],[1,1], color='red', linewidth=2)\n",
        "\n",
        "#状態を示す文字S0~S8を描く\n",
        "plt.text(0.5, 2.5, 'S0', size=14, ha='center')\n",
        "plt.text(1.5, 2.5, 'S1', size=14, ha='center')\n",
        "plt.text(2.5, 2.5, 'S2', size=14, ha='center')\n",
        "plt.text(0.5, 1.5, 'S3', size=14, ha='center')\n",
        "plt.text(1.5, 1.5, 'S4', size=14, ha='center')\n",
        "plt.text(2.5, 1.5, 'S5', size=14, ha='center')\n",
        "plt.text(0.5, 0.5, 'S6', size=14, ha='center')\n",
        "plt.text(1.5, 0.5, 'S7', size=14, ha='center')\n",
        "plt.text(2.5, 0.5, 'S8', size=14, ha='center')\n",
        "plt.text(0.5, 2.3, 'START', ha='center')\n",
        "plt.text(2.5, 0.3, 'GOAL', ha='center')\n",
        "\n",
        "#目盛りを消す設定\n",
        "ax.set_xlim(0, 3)\n",
        "ax.set_ylim(0,3)\n",
        "plt.tick_params(axis='both', which='both', bottom='off', top='off', labelbottom='off', right='off', left='off', labelleft='off')\n",
        "\n",
        "#現在地に緑の〇を描く\n",
        "line, =ax.plot([0.5], [2.5], marker='o', color ='g', markersize=60)\n",
        "\n",
        "\n",
        "#初期の方策を決定するパラメータtheta_0を設定\n",
        "#行は状態，列は移動方向を示す\n",
        "theta_0 = np.array([[np.nan, 1, 1, np.nan], #S0\n",
        "[np.nan, 1, np.nan, 1], #S1\n",
        "[np.nan, np.nan, 1, 1], #S2\n",
        "[1, 1, 1, np.nan], #S3\n",
        "[np.nan, np.nan, 1, 1], #S4\n",
        "[1, np.nan, np.nan, np.nan], #S5\n",
        "[1, np.nan, np.nan, np.nan], #S6\n",
        "[1, 1, np.nan, np.nan], #S7\n",
        "])\n",
        "\n",
        "#方策パラメータthetaを行動方策piに変換する関数の定義\n",
        "\n",
        "def simple_convert_into_pi_from_theta(theta):\n",
        "    [m,n] =theta.shape #thetaの行列サイズを取得\n",
        "    pi= np.zeros((m,n))\n",
        "    for i in range(0,m):\n",
        "        pi[i, :] = theta[i, :]/np.nansum(theta[i, :]) #割合の計算\n",
        "    \n",
        "    pi = np.nan_to_num(pi) #nanを0に変換\n",
        "\n",
        "    return pi\n",
        "\n",
        "    #初期の方策pi_0を求める\n",
        "pi_0 = simple_convert_into_pi_from_theta(theta_0)\n",
        "pi_0\n",
        "\n"
      ],
      "execution_count": 25,
      "outputs": [
        {
          "output_type": "display_data",
          "data": {
            "image/png": "[encoded data removed]",
            "text/plain": [
              "<Figure size 360x360 with 1 Axes>"
            ]
          },
          "metadata": {
            "tags": [],
            "needs_background": "light"
          }
        }
      ]
    },
    {
      "cell_type": "code",
      "metadata": {
        "id": "ZTL3_pz8hQIF"
      },
      "source": [
        "\n",
        "#1step移動後の状態ｓを求める関数を定義\n",
        "\n",
        "def get_next_s(pi, s):\n",
        "  direction = ['up,', 'right', 'down', 'left']\n",
        "\n",
        "  next_direction = np.random.choice(direction, p=pi[s, :]) #pi[s, :]の確率に従って，directionが選択される\n",
        "\n",
        "  if next_direction == 'up':\n",
        "    s_next = s-3\n",
        "  elif next_direction == 'right':\n",
        "    s_next = s+1\n",
        "  elif next_direction == 'down':\n",
        "    s_next = s+3\n",
        "  elif next_direction == 'left':\n",
        "    s_next = s-1\n",
        "\n",
        "  return s_next\n",
        "\n",
        "  #GOALにたどり着くまで移動させる関数の定義\n",
        "  \n",
        "  def goal_maze(pi):\n",
        "    s=0 #START地点\n",
        "    state_history = [0] #エージェントを記録するリスト\n",
        "\n",
        "    while(1):\n",
        "      next_s = get_next_s(pi,s)\n",
        "      state_history.append(next_s) #記録リストに次の状態を追加\n",
        "\n",
        "      if next_s == 8:\n",
        "        break\n",
        "      else:\n",
        "        s =next_s\n",
        "    \n",
        "    return state_history\n",
        "\n",
        "    state_history = goal_maze(pi_0)\n",
        "    #ゴールするまでのエージェントの移動がstate_historyに格納された．\n",
        "\n",
        "    print(state_history)\n",
        "    print('迷路を解くのにかかったステップ数は' + str(len(state_history)-1) + 'です')"
      ],
      "execution_count": 32,
      "outputs": []
    },
    {
      "cell_type": "code",
      "metadata": {
        "id": "RUwMzEt0mF_W",
        "outputId": "181e4e3d-99ce-4461-dc66-eb8b220215fb",
        "colab": {
          "base_uri": "https://localhost:8080/",
          "height": 245
        }
      },
      "source": [
        ""
      ],
      "execution_count": 30,
      "outputs": [
        {
          "output_type": "error",
          "ename": "NameError",
          "evalue": "ignored",
          "traceback": [
            "\u001b[0;31m---------------------------------------------------------------------------\u001b[0m",
            "\u001b[0;31mNameError\u001b[0m                                 Traceback (most recent call last)",
            "\u001b[0;32m<ipython-input-30-307c4d76e256>\u001b[0m in \u001b[0;36m<module>\u001b[0;34m()\u001b[0m\n\u001b[1;32m     57\u001b[0m \u001b[0;34m\u001b[0m\u001b[0m\n\u001b[1;32m     58\u001b[0m \u001b[0;31m#初期化関数とフレームごとの描画関数を用いて動画を作成\u001b[0m\u001b[0;34m\u001b[0m\u001b[0;34m\u001b[0m\u001b[0;34m\u001b[0m\u001b[0m\n\u001b[0;32m---> 59\u001b[0;31m \u001b[0manim\u001b[0m \u001b[0;34m=\u001b[0m \u001b[0manimation\u001b[0m\u001b[0;34m.\u001b[0m\u001b[0mFuncAnimation\u001b[0m\u001b[0;34m(\u001b[0m\u001b[0mfig\u001b[0m\u001b[0;34m,\u001b[0m \u001b[0manimate\u001b[0m\u001b[0;34m,\u001b[0m \u001b[0minit_func\u001b[0m \u001b[0;34m=\u001b[0m \u001b[0minit\u001b[0m\u001b[0;34m,\u001b[0m \u001b[0mframes\u001b[0m\u001b[0;34m=\u001b[0m\u001b[0mlen\u001b[0m\u001b[0;34m(\u001b[0m\u001b[0mstate_history\u001b[0m\u001b[0;34m)\u001b[0m\u001b[0;34m,\u001b[0m \u001b[0minterval\u001b[0m\u001b[0;34m=\u001b[0m \u001b[0;36m200\u001b[0m\u001b[0;34m,\u001b[0m \u001b[0mrepeat\u001b[0m\u001b[0;34m=\u001b[0m\u001b[0;32mFalse\u001b[0m\u001b[0;34m)\u001b[0m\u001b[0;34m\u001b[0m\u001b[0;34m\u001b[0m\u001b[0m\n\u001b[0m\u001b[1;32m     60\u001b[0m \u001b[0;34m\u001b[0m\u001b[0m\n\u001b[1;32m     61\u001b[0m \u001b[0mHTML\u001b[0m\u001b[0;34m(\u001b[0m\u001b[0manim\u001b[0m\u001b[0;34m.\u001b[0m\u001b[0mto_jshtml\u001b[0m\u001b[0;34m(\u001b[0m\u001b[0;34m)\u001b[0m\u001b[0;34m)\u001b[0m\u001b[0;34m\u001b[0m\u001b[0;34m\u001b[0m\u001b[0m\n",
            "\u001b[0;31mNameError\u001b[0m: name 'state_history' is not defined"
          ]
        }
      ]
    },
    {
      "cell_type": "code",
      "metadata": {
        "id": "bAE3bbiPnYcv"
      },
      "source": [
        ""
      ],
      "execution_count": null,
      "outputs": []
    },
    {
      "cell_type": "code",
      "metadata": {
        "id": "Ddge-CbZnUZ8"
      },
      "source": [
        ""
      ],
      "execution_count": null,
      "outputs": []
    },
    {
      "cell_type": "code",
      "metadata": {
        "id": "5iuypBFKjnM7"
      },
      "source": [
        ""
      ],
      "execution_count": null,
      "outputs": []
    }
  ]
}